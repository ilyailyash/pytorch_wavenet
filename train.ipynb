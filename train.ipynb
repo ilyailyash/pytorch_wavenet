{
 "cells": [
  {
   "cell_type": "code",
   "execution_count": 1,
   "metadata": {
    "collapsed": false
   },
   "outputs": [
    {
     "ename": "ImportError",
     "evalue": "cannot import name one_hot",
     "output_type": "error",
     "traceback": [
      "\u001b[0;31m---------------------------------------------------------------------------\u001b[0m",
      "\u001b[0;31mImportError\u001b[0m                               Traceback (most recent call last)",
      "\u001b[0;32m<ipython-input-1-49a1d2ac2c2d>\u001b[0m in \u001b[0;36m<module>\u001b[0;34m()\u001b[0m\n\u001b[1;32m      7\u001b[0m \u001b[0;32mimport\u001b[0m \u001b[0mmath\u001b[0m\u001b[0;34m\u001b[0m\u001b[0m\n\u001b[1;32m      8\u001b[0m \u001b[0;32mfrom\u001b[0m \u001b[0mops\u001b[0m \u001b[0;32mimport\u001b[0m \u001b[0mmu_law_encode\u001b[0m\u001b[0;34m,\u001b[0m \u001b[0mtime_to_batch\u001b[0m\u001b[0;34m,\u001b[0m \u001b[0mbatch_to_time\u001b[0m\u001b[0;34m\u001b[0m\u001b[0m\n\u001b[0;32m----> 9\u001b[0;31m \u001b[0;32mfrom\u001b[0m \u001b[0mmodel2\u001b[0m \u001b[0;32mimport\u001b[0m \u001b[0mWaveNetModel\u001b[0m\u001b[0;34m\u001b[0m\u001b[0m\n\u001b[0m\u001b[1;32m     10\u001b[0m \u001b[0;32mfrom\u001b[0m \u001b[0maudio_reader\u001b[0m \u001b[0;32mimport\u001b[0m \u001b[0mAudioReader\u001b[0m\u001b[0;34m\u001b[0m\u001b[0m\n\u001b[1;32m     11\u001b[0m \u001b[0;32mimport\u001b[0m \u001b[0mtorch\u001b[0m\u001b[0;34m.\u001b[0m\u001b[0moptim\u001b[0m \u001b[0;32mas\u001b[0m \u001b[0moptim\u001b[0m\u001b[0;34m\u001b[0m\u001b[0m\n",
      "\u001b[0;32m/home/administrator/workspace/wav_detector/model.py\u001b[0m in \u001b[0;36m<module>\u001b[0;34m()\u001b[0m\n\u001b[1;32m      4\u001b[0m \u001b[0;32mfrom\u001b[0m \u001b[0mtorch\u001b[0m \u001b[0;32mimport\u001b[0m \u001b[0mnn\u001b[0m\u001b[0;34m\u001b[0m\u001b[0m\n\u001b[1;32m      5\u001b[0m \u001b[0;32mfrom\u001b[0m \u001b[0mtorch\u001b[0m \u001b[0;32mimport\u001b[0m \u001b[0mautograd\u001b[0m\u001b[0;34m\u001b[0m\u001b[0m\n\u001b[0;32m----> 6\u001b[0;31m \u001b[0;32mfrom\u001b[0m \u001b[0mops\u001b[0m \u001b[0;32mimport\u001b[0m \u001b[0mmu_law_encode\u001b[0m\u001b[0;34m,\u001b[0m \u001b[0mtime_to_batch\u001b[0m\u001b[0;34m,\u001b[0m \u001b[0mbatch_to_time\u001b[0m\u001b[0;34m\u001b[0m\u001b[0m\n\u001b[0m\u001b[1;32m      7\u001b[0m \u001b[0;32mimport\u001b[0m \u001b[0mQueue\u001b[0m\u001b[0;34m\u001b[0m\u001b[0m\n\u001b[1;32m      8\u001b[0m \u001b[0;32mimport\u001b[0m \u001b[0mtime\u001b[0m\u001b[0;34m\u001b[0m\u001b[0m\n",
      "\u001b[0;31mImportError\u001b[0m: cannot import name one_hot"
     ]
    }
   ],
   "source": [
    "import numpy as np\n",
    "import torch\n",
    "import torch.nn.functional as F\n",
    "from torch import nn\n",
    "from torch import autograd\n",
    "from torch.nn import init\n",
    "import math\n",
    "from ops import mu_law_encode, time_to_batch, batch_to_time\n",
    "from model2 import WaveNetModel\n",
    "from audio_reader import AudioReader\n",
    "import torch.optim as optim\n",
    "import librosa\n",
    "import time\n",
    "import Queue\n",
    "import json\n",
    "FILE_PATTERN = r'([0-9]*)/audio([0-9]*)\\.wav'"
   ]
  },
  {
   "cell_type": "code",
   "execution_count": 8,
   "metadata": {
    "collapsed": false
   },
   "outputs": [],
   "source": [
    "with open('./wavenet_params.json', 'r') as config_file:\n",
    "    wavenet_params = json.load(config_file)\n",
    "data_directory = './training_set'\n",
    "logdir_root = './logdir'\n",
    "l2_reg = 0\n",
    "silence_threshold = 0\n",
    "epsilon = 10 ** np.random.uniform(0,4,20)\n",
    "momentum = 0.9\n",
    "checkpoint_every = 50\n",
    "batch_size=wavenet_params[\"batch_size\"]\n",
    "validation_directory = './validation_set'"
   ]
  },
  {
   "cell_type": "code",
   "execution_count": 3,
   "metadata": {
    "collapsed": false,
    "scrolled": true
   },
   "outputs": [],
   "source": [
    "model = WaveNetModel(\n",
    "                 wavenet_params[\"batch_size\"],\n",
    "                 wavenet_params[\"dilations\"],\n",
    "                 wavenet_params[\"filter_width\"],\n",
    "                 wavenet_params[\"residual_channels\"],\n",
    "                 wavenet_params[\"dilation_channels\"],\n",
    "                 wavenet_params[\"skip_channels\"],\n",
    "                 quantization_channels = wavenet_params[\"quantization_channels\"],\n",
    "                 use_biases = wavenet_params[\"use_biases\"],\n",
    "                 scalar_input = wavenet_params[\"scalar_input\"],\n",
    "                 use_cuda = wavenet_params[\"use_cuda\"],\n",
    "                 initial_filter_width = wavenet_params[\"initial_filter_width\"]\n",
    "                 )\n",
    "optimizer = optim.SGD(model.parameters(), lr=epsilon, momentum = momentum, nesterov = True, weight_decay = l2_reg)\n",
    "model.load_state_dict(torch.load('./epoch3680-loss=2.601_model.txt'))\n",
    "for param in model.parameters():\n",
    "    param.requires_grad = False\n",
    "model.postprocess1 = nn.Conv1d(model.skip_channels, model.skip_channels, 1)\n",
    "model.postprocess2 = nn.Conv1d(model.skip_channels, model.num_classes, 1)\n",
    "if model.use_cuda:\n",
    "    model = model.cuda()"
   ]
  },
  {
   "cell_type": "code",
   "execution_count": 4,
   "metadata": {
    "collapsed": false,
    "scrolled": true
   },
   "outputs": [
    {
     "name": "stdout",
     "output_type": "stream",
     "text": [
      "0.574819087982\n",
      "1.21495509148\n",
      "964\n"
     ]
    }
   ],
   "source": [
    "reader = AudioReader(\n",
    "        data_directory,\n",
    "        sample_rate=wavenet_params[\"sample_rate\"],\n",
    "        receptive_field=model.receptive_field)   \n",
    "start_time = time.time()\n",
    "num_iters = reader.thread_main()\n",
    "print (time.time() - start_time)\n",
    "val_reader = AudioReader(\n",
    "        validation_directory,\n",
    "        sample_rate=wavenet_params[\"sample_rate\"],\n",
    "        receptive_field=model.receptive_field,\n",
    "        load_size = 10)\n",
    "start_time = time.time()\n",
    "val_num_iters = val_reader.thread_main()\n",
    "print (time.time() - start_time)\n",
    "print (val_num_iters)"
   ]
  },
  {
   "cell_type": "code",
   "execution_count": 5,
   "metadata": {
    "collapsed": false,
    "scrolled": true
   },
   "outputs": [],
   "source": [
    "val_batch = torch.zeros((val_num_iters,model.receptive_field+1))\n",
    "val_targets = torch.zeros(val_num_iters).type(torch.LongTensor)\n",
    "for i in range(val_num_iters):\n",
    "    val_batch[i,:] = torch.FloatTensor(val_reader.data_set.get_nowait())\n",
    "    val_targets[i] = val_reader.target_queue.get_nowait().astype(np.int64)\n",
    "if model.use_cuda:\n",
    "    val_batch = autograd.Variable(val_batch).cuda()\n",
    "    val_targets = autograd.Variable(val_targets).cuda()\n",
    "else:\n",
    "    val_batch = autograd.Variable(val_batch)\n",
    "    val_targets = autograd.Variable(val_targets)"
   ]
  },
  {
   "cell_type": "code",
   "execution_count": 6,
   "metadata": {
    "collapsed": true
   },
   "outputs": [],
   "source": [
    "def set_model(wavenet_params, epsilon, l2_reg, File_name):\n",
    "    model = WaveNetModel(\n",
    "                 wavenet_params[\"batch_size\"],\n",
    "                 wavenet_params[\"dilations\"],\n",
    "                 wavenet_params[\"filter_width\"],\n",
    "                 wavenet_params[\"residual_channels\"],\n",
    "                 wavenet_params[\"dilation_channels\"],\n",
    "                 wavenet_params[\"skip_channels\"],\n",
    "                 quantization_channels = wavenet_params[\"quantization_channels\"],\n",
    "                 use_biases = wavenet_params[\"use_biases\"],\n",
    "                 scalar_input = wavenet_params[\"scalar_input\"],\n",
    "                 use_cuda = wavenet_params[\"use_cuda\"],\n",
    "                 initial_filter_width = wavenet_params[\"initial_filter_width\"]\n",
    "                 )\n",
    "    optimizer = optim.SGD(model.parameters(), lr=epsilon, momentum = momentum, nesterov = True, weight_decay = l2_reg)\n",
    "    model.load_state_dict(torch.load(File_name))\n",
    "    for param in model.parameters():\n",
    "        param.requires_grad = False\n",
    "    model.postprocess1 = nn.Conv1d(model.skip_channels, model.skip_channels, 1)\n",
    "    model.postprocess2 = nn.Conv1d(model.skip_channels, model.num_classes, 1)\n",
    "    if model.use_cuda:\n",
    "        model = model.cuda()\n",
    "    return model, optimizer"
   ]
  },
  {
   "cell_type": "code",
   "execution_count": 9,
   "metadata": {
    "collapsed": false,
    "scrolled": true
   },
   "outputs": [
    {
     "name": "stdout",
     "output_type": "stream",
     "text": [
      "time:171.8\n",
      "./acc/accuracy:0.48859 iteration:0 learning rate:560.57378 loss:0.618\n",
      "time:170.4\n",
      "./acc/accuracy:0.49066 iteration:1 learning rate:23.57983 loss:0.771\n",
      "time:170.1\n",
      "./acc/accuracy:0.51349 iteration:2 learning rate:1.08125 loss:0.689\n",
      "time:168.7\n",
      "./acc/accuracy:0.50207 iteration:3 learning rate:2.23274 loss:1.237\n",
      "time:169.4\n",
      "./acc/accuracy:0.49378 iteration:4 learning rate:24.92113 loss:0.849\n",
      "time:170.2\n",
      "./acc/accuracy:0.50622 iteration:5 learning rate:4.91011 loss:0.758\n",
      "time:171.0\n",
      "./acc/accuracy:0.47925 iteration:6 learning rate:17.53136 loss:0.792\n",
      "time:173.3\n",
      "./acc/accuracy:0.49481 iteration:7 learning rate:439.88691 loss:0.844\n",
      "time:176.6\n",
      "./acc/accuracy:0.50104 iteration:8 learning rate:9.22684 loss:0.827\n",
      "time:172.1\n",
      "./acc/accuracy:0.50207 iteration:9 learning rate:746.76651 loss:1.201\n",
      "time:173.7\n",
      "./acc/accuracy:0.50207 iteration:10 learning rate:572.08271 loss:1.065\n"
     ]
    },
    {
     "ename": "KeyboardInterrupt",
     "evalue": "",
     "output_type": "error",
     "traceback": [
      "\u001b[0;31m---------------------------------------------------------------------------\u001b[0m",
      "\u001b[0;31mKeyboardInterrupt\u001b[0m                         Traceback (most recent call last)",
      "\u001b[0;32m<ipython-input-9-484bfc568952>\u001b[0m in \u001b[0;36m<module>\u001b[0;34m()\u001b[0m\n\u001b[1;32m     25\u001b[0m                 \u001b[0mtargets\u001b[0m \u001b[0;34m=\u001b[0m \u001b[0mautograd\u001b[0m\u001b[0;34m.\u001b[0m\u001b[0mVariable\u001b[0m\u001b[0;34m(\u001b[0m\u001b[0mtargets_batch\u001b[0m\u001b[0;34m)\u001b[0m\u001b[0;34m\u001b[0m\u001b[0m\n\u001b[1;32m     26\u001b[0m             \u001b[0mmodel\u001b[0m\u001b[0;34m.\u001b[0m\u001b[0mzero_grad\u001b[0m\u001b[0;34m(\u001b[0m\u001b[0;34m)\u001b[0m\u001b[0;34m\u001b[0m\u001b[0m\n\u001b[0;32m---> 27\u001b[0;31m             \u001b[0mraw_output\u001b[0m \u001b[0;34m=\u001b[0m \u001b[0mmodel\u001b[0m\u001b[0;34m(\u001b[0m\u001b[0maudio\u001b[0m\u001b[0;34m)\u001b[0m\u001b[0;34m\u001b[0m\u001b[0m\n\u001b[0m\u001b[1;32m     28\u001b[0m             \u001b[0mloss\u001b[0m \u001b[0;34m=\u001b[0m \u001b[0mmodel\u001b[0m\u001b[0;34m.\u001b[0m\u001b[0m_loss\u001b[0m\u001b[0;34m(\u001b[0m\u001b[0mraw_output\u001b[0m\u001b[0;34m,\u001b[0m \u001b[0mtargets\u001b[0m\u001b[0;34m)\u001b[0m\u001b[0;34m\u001b[0m\u001b[0m\n\u001b[1;32m     29\u001b[0m             \u001b[0mloss\u001b[0m\u001b[0;34m.\u001b[0m\u001b[0mbackward\u001b[0m\u001b[0;34m(\u001b[0m\u001b[0;34m)\u001b[0m\u001b[0;34m\u001b[0m\u001b[0m\n",
      "\u001b[0;32m/home/administrator/anaconda3/envs/py27/lib/python2.7/site-packages/torch/nn/modules/module.pyc\u001b[0m in \u001b[0;36m__call__\u001b[0;34m(self, *input, **kwargs)\u001b[0m\n\u001b[1;32m    222\u001b[0m         \u001b[0;32mfor\u001b[0m \u001b[0mhook\u001b[0m \u001b[0;32min\u001b[0m \u001b[0mself\u001b[0m\u001b[0;34m.\u001b[0m\u001b[0m_forward_pre_hooks\u001b[0m\u001b[0;34m.\u001b[0m\u001b[0mvalues\u001b[0m\u001b[0;34m(\u001b[0m\u001b[0;34m)\u001b[0m\u001b[0;34m:\u001b[0m\u001b[0;34m\u001b[0m\u001b[0m\n\u001b[1;32m    223\u001b[0m             \u001b[0mhook\u001b[0m\u001b[0;34m(\u001b[0m\u001b[0mself\u001b[0m\u001b[0;34m,\u001b[0m \u001b[0minput\u001b[0m\u001b[0;34m)\u001b[0m\u001b[0;34m\u001b[0m\u001b[0m\n\u001b[0;32m--> 224\u001b[0;31m         \u001b[0mresult\u001b[0m \u001b[0;34m=\u001b[0m \u001b[0mself\u001b[0m\u001b[0;34m.\u001b[0m\u001b[0mforward\u001b[0m\u001b[0;34m(\u001b[0m\u001b[0;34m*\u001b[0m\u001b[0minput\u001b[0m\u001b[0;34m,\u001b[0m \u001b[0;34m**\u001b[0m\u001b[0mkwargs\u001b[0m\u001b[0;34m)\u001b[0m\u001b[0;34m\u001b[0m\u001b[0m\n\u001b[0m\u001b[1;32m    225\u001b[0m         \u001b[0;32mfor\u001b[0m \u001b[0mhook\u001b[0m \u001b[0;32min\u001b[0m \u001b[0mself\u001b[0m\u001b[0;34m.\u001b[0m\u001b[0m_forward_hooks\u001b[0m\u001b[0;34m.\u001b[0m\u001b[0mvalues\u001b[0m\u001b[0;34m(\u001b[0m\u001b[0;34m)\u001b[0m\u001b[0;34m:\u001b[0m\u001b[0;34m\u001b[0m\u001b[0m\n\u001b[1;32m    226\u001b[0m             \u001b[0mhook_result\u001b[0m \u001b[0;34m=\u001b[0m \u001b[0mhook\u001b[0m\u001b[0;34m(\u001b[0m\u001b[0mself\u001b[0m\u001b[0;34m,\u001b[0m \u001b[0minput\u001b[0m\u001b[0;34m,\u001b[0m \u001b[0mresult\u001b[0m\u001b[0;34m)\u001b[0m\u001b[0;34m\u001b[0m\u001b[0m\n",
      "\u001b[0;32m/home/administrator/workspace/wav_detector/model.pyc\u001b[0m in \u001b[0;36mforward\u001b[0;34m(self, input_batch)\u001b[0m\n\u001b[1;32m    352\u001b[0m \u001b[0;34m\u001b[0m\u001b[0m\n\u001b[1;32m    353\u001b[0m \u001b[0;34m\u001b[0m\u001b[0m\n\u001b[0;32m--> 354\u001b[0;31m         \u001b[0mencoded\u001b[0m \u001b[0;34m=\u001b[0m \u001b[0mself\u001b[0m\u001b[0;34m.\u001b[0m\u001b[0mone_hot\u001b[0m\u001b[0;34m(\u001b[0m\u001b[0mencoded_input\u001b[0m\u001b[0;34m)\u001b[0m\u001b[0;34m\u001b[0m\u001b[0m\n\u001b[0m\u001b[1;32m    355\u001b[0m         \u001b[0;32mif\u001b[0m \u001b[0mself\u001b[0m\u001b[0;34m.\u001b[0m\u001b[0mscalar_input\u001b[0m\u001b[0;34m:\u001b[0m\u001b[0;34m\u001b[0m\u001b[0m\n\u001b[1;32m    356\u001b[0m             \u001b[0mnetwork_input\u001b[0m \u001b[0;34m=\u001b[0m \u001b[0minput_batch\u001b[0m\u001b[0;34m.\u001b[0m\u001b[0mtype\u001b[0m\u001b[0;34m(\u001b[0m\u001b[0mtorch\u001b[0m\u001b[0;34m.\u001b[0m\u001b[0mFloatTensor\u001b[0m\u001b[0;34m)\u001b[0m\u001b[0;34m.\u001b[0m\u001b[0mview\u001b[0m\u001b[0;34m(\u001b[0m\u001b[0mself\u001b[0m\u001b[0;34m.\u001b[0m\u001b[0mbatch_size\u001b[0m\u001b[0;34m,\u001b[0m \u001b[0;34m-\u001b[0m\u001b[0;36m1\u001b[0m\u001b[0;34m,\u001b[0m \u001b[0;36m1\u001b[0m\u001b[0;34m)\u001b[0m\u001b[0;34m\u001b[0m\u001b[0m\n",
      "\u001b[0;32m/home/administrator/workspace/wav_detector/model.pyc\u001b[0m in \u001b[0;36mone_hot\u001b[0;34m(self, input)\u001b[0m\n\u001b[1;32m    125\u001b[0m         \u001b[0mret\u001b[0m\u001b[0;34m.\u001b[0m\u001b[0mscatter_\u001b[0m\u001b[0;34m(\u001b[0m\u001b[0;36m1\u001b[0m\u001b[0;34m,\u001b[0m \u001b[0minput\u001b[0m\u001b[0;34m.\u001b[0m\u001b[0mdata\u001b[0m\u001b[0;34m,\u001b[0m \u001b[0;36m1\u001b[0m\u001b[0;34m)\u001b[0m\u001b[0;34m\u001b[0m\u001b[0m\n\u001b[1;32m    126\u001b[0m         \u001b[0mret\u001b[0m \u001b[0;34m=\u001b[0m \u001b[0mret\u001b[0m\u001b[0;34m.\u001b[0m\u001b[0mview\u001b[0m\u001b[0;34m(\u001b[0m\u001b[0msize\u001b[0m\u001b[0;34m[\u001b[0m\u001b[0;36m0\u001b[0m\u001b[0;34m]\u001b[0m\u001b[0;34m,\u001b[0m \u001b[0msize\u001b[0m\u001b[0;34m[\u001b[0m\u001b[0;36m1\u001b[0m\u001b[0;34m]\u001b[0m\u001b[0;34m,\u001b[0m \u001b[0mself\u001b[0m\u001b[0;34m.\u001b[0m\u001b[0mquantization_channels\u001b[0m\u001b[0;34m)\u001b[0m\u001b[0;34m.\u001b[0m\u001b[0mtranspose_\u001b[0m\u001b[0;34m(\u001b[0m\u001b[0;36m1\u001b[0m\u001b[0;34m,\u001b[0m \u001b[0;36m2\u001b[0m\u001b[0;34m)\u001b[0m\u001b[0;34m\u001b[0m\u001b[0m\n\u001b[0;32m--> 127\u001b[0;31m         \u001b[0;32mreturn\u001b[0m \u001b[0mautograd\u001b[0m\u001b[0;34m.\u001b[0m\u001b[0mVariable\u001b[0m\u001b[0;34m(\u001b[0m\u001b[0mret\u001b[0m\u001b[0;34m)\u001b[0m\u001b[0;34m.\u001b[0m\u001b[0mcuda\u001b[0m\u001b[0;34m(\u001b[0m\u001b[0;34m)\u001b[0m\u001b[0;34m\u001b[0m\u001b[0m\n\u001b[0m\u001b[1;32m    128\u001b[0m \u001b[0;34m\u001b[0m\u001b[0m\n\u001b[1;32m    129\u001b[0m     \u001b[0;32mdef\u001b[0m \u001b[0mcausal_conv\u001b[0m\u001b[0;34m(\u001b[0m\u001b[0mself\u001b[0m\u001b[0;34m,\u001b[0m \u001b[0mvalue\u001b[0m\u001b[0;34m,\u001b[0m \u001b[0mlayer\u001b[0m\u001b[0;34m,\u001b[0m  \u001b[0mdilation\u001b[0m\u001b[0;34m)\u001b[0m\u001b[0;34m:\u001b[0m\u001b[0;34m\u001b[0m\u001b[0m\n",
      "\u001b[0;32m/home/administrator/anaconda3/envs/py27/lib/python2.7/site-packages/torch/autograd/variable.pyc\u001b[0m in \u001b[0;36mcuda\u001b[0;34m(self, device_id, async)\u001b[0m\n\u001b[1;32m    277\u001b[0m \u001b[0;34m\u001b[0m\u001b[0m\n\u001b[1;32m    278\u001b[0m     \u001b[0;32mdef\u001b[0m \u001b[0mcuda\u001b[0m\u001b[0;34m(\u001b[0m\u001b[0mself\u001b[0m\u001b[0;34m,\u001b[0m \u001b[0mdevice_id\u001b[0m\u001b[0;34m=\u001b[0m\u001b[0mNone\u001b[0m\u001b[0;34m,\u001b[0m \u001b[0masync\u001b[0m\u001b[0;34m=\u001b[0m\u001b[0mFalse\u001b[0m\u001b[0;34m)\u001b[0m\u001b[0;34m:\u001b[0m\u001b[0;34m\u001b[0m\u001b[0m\n\u001b[0;32m--> 279\u001b[0;31m         \u001b[0;32mreturn\u001b[0m \u001b[0mCudaTransfer\u001b[0m\u001b[0;34m.\u001b[0m\u001b[0mapply\u001b[0m\u001b[0;34m(\u001b[0m\u001b[0mself\u001b[0m\u001b[0;34m,\u001b[0m \u001b[0mdevice_id\u001b[0m\u001b[0;34m,\u001b[0m \u001b[0masync\u001b[0m\u001b[0;34m)\u001b[0m\u001b[0;34m\u001b[0m\u001b[0m\n\u001b[0m\u001b[1;32m    280\u001b[0m \u001b[0;34m\u001b[0m\u001b[0m\n\u001b[1;32m    281\u001b[0m     \u001b[0;32mdef\u001b[0m \u001b[0mcpu\u001b[0m\u001b[0;34m(\u001b[0m\u001b[0mself\u001b[0m\u001b[0;34m)\u001b[0m\u001b[0;34m:\u001b[0m\u001b[0;34m\u001b[0m\u001b[0m\n",
      "\u001b[0;32m/home/administrator/anaconda3/envs/py27/lib/python2.7/site-packages/torch/autograd/_functions/tensor.pyc\u001b[0m in \u001b[0;36mforward\u001b[0;34m(ctx, i, device_id, async)\u001b[0m\n\u001b[1;32m    149\u001b[0m             \u001b[0;32mreturn\u001b[0m \u001b[0mi\u001b[0m\u001b[0;34m.\u001b[0m\u001b[0mcuda\u001b[0m\u001b[0;34m(\u001b[0m\u001b[0mdevice_id\u001b[0m\u001b[0;34m,\u001b[0m \u001b[0masync\u001b[0m\u001b[0;34m=\u001b[0m\u001b[0masync\u001b[0m\u001b[0;34m)\u001b[0m\u001b[0;34m\u001b[0m\u001b[0m\n\u001b[1;32m    150\u001b[0m         \u001b[0;32melse\u001b[0m\u001b[0;34m:\u001b[0m\u001b[0;34m\u001b[0m\u001b[0m\n\u001b[0;32m--> 151\u001b[0;31m             \u001b[0;32mreturn\u001b[0m \u001b[0mi\u001b[0m\u001b[0;34m.\u001b[0m\u001b[0mcuda\u001b[0m\u001b[0;34m(\u001b[0m\u001b[0masync\u001b[0m\u001b[0;34m=\u001b[0m\u001b[0masync\u001b[0m\u001b[0;34m)\u001b[0m\u001b[0;34m\u001b[0m\u001b[0m\n\u001b[0m\u001b[1;32m    152\u001b[0m \u001b[0;34m\u001b[0m\u001b[0m\n\u001b[1;32m    153\u001b[0m     \u001b[0;34m@\u001b[0m\u001b[0mstaticmethod\u001b[0m\u001b[0;34m\u001b[0m\u001b[0m\n",
      "\u001b[0;32m/home/administrator/anaconda3/envs/py27/lib/python2.7/site-packages/torch/_utils.pyc\u001b[0m in \u001b[0;36m_cuda\u001b[0;34m(self, device, async)\u001b[0m\n\u001b[1;32m     64\u001b[0m         \u001b[0;32melse\u001b[0m\u001b[0;34m:\u001b[0m\u001b[0;34m\u001b[0m\u001b[0m\n\u001b[1;32m     65\u001b[0m             \u001b[0mnew_type\u001b[0m \u001b[0;34m=\u001b[0m \u001b[0mgetattr\u001b[0m\u001b[0;34m(\u001b[0m\u001b[0mtorch\u001b[0m\u001b[0;34m.\u001b[0m\u001b[0mcuda\u001b[0m\u001b[0;34m,\u001b[0m \u001b[0mself\u001b[0m\u001b[0;34m.\u001b[0m\u001b[0m__class__\u001b[0m\u001b[0;34m.\u001b[0m\u001b[0m__name__\u001b[0m\u001b[0;34m)\u001b[0m\u001b[0;34m\u001b[0m\u001b[0m\n\u001b[0;32m---> 66\u001b[0;31m             \u001b[0;32mreturn\u001b[0m \u001b[0mnew_type\u001b[0m\u001b[0;34m(\u001b[0m\u001b[0mself\u001b[0m\u001b[0;34m.\u001b[0m\u001b[0msize\u001b[0m\u001b[0;34m(\u001b[0m\u001b[0;34m)\u001b[0m\u001b[0;34m)\u001b[0m\u001b[0;34m.\u001b[0m\u001b[0mcopy_\u001b[0m\u001b[0;34m(\u001b[0m\u001b[0mself\u001b[0m\u001b[0;34m,\u001b[0m \u001b[0masync\u001b[0m\u001b[0;34m)\u001b[0m\u001b[0;34m\u001b[0m\u001b[0m\n\u001b[0m\u001b[1;32m     67\u001b[0m \u001b[0;34m\u001b[0m\u001b[0m\n\u001b[1;32m     68\u001b[0m \u001b[0;34m\u001b[0m\u001b[0m\n",
      "\u001b[0;31mKeyboardInterrupt\u001b[0m: "
     ]
    }
   ],
   "source": [
    "epoch = 0\n",
    "audio_batch = torch.zeros(batch_size,model.receptive_field+1)\n",
    "targets_batch = torch.zeros(batch_size).type(torch.LongTensor)\n",
    "accurancy_counter = torch.zeros(model.num_classes)\n",
    "\n",
    "best_lr = 10\n",
    "best_acc = 0\n",
    "\n",
    "for j, lr in enumerate(epsilon):\n",
    "    cur_time = time.time()\n",
    "    model, optimizer = set_model(wavenet_params, lr, 0, './epoch220-loss=1.568_model.txt')\n",
    "    for ep in range(200):\n",
    "        num_iters = reader.thread_main()\n",
    "        for iter in range(num_iters/batch_size):\n",
    "            start_time = time.time()\n",
    "            for i in range(batch_size):\n",
    "                audio_part = reader.data_set.get_nowait()\n",
    "                audio_batch[i,:] = torch.FloatTensor(audio_part)\n",
    "                targets_batch[i] =  reader.target_queue.get_nowait().astype(np.int64)\n",
    "            if model.use_cuda:\n",
    "                audio = autograd.Variable(audio_batch.cuda())\n",
    "                targets = autograd.Variable(targets_batch.cuda())\n",
    "            else:\n",
    "                audio = autograd.Variable(audio_batch)\n",
    "                targets = autograd.Variable(targets_batch)\n",
    "            model.zero_grad()\n",
    "            raw_output = model(audio)\n",
    "            loss = model._loss(raw_output, targets)\n",
    "            loss.backward()\n",
    "            optimizer.step()\n",
    "    acc = model.accurancy(val_batch,val_targets)\n",
    "    if acc > best_acc:\n",
    "        best_acc = acc\n",
    "        best_lr = lr\n",
    "    ModelFile = './acc/accuracy:{:.5f} iteration:{:d} learning rate:{:.5f} loss:{:.3f}'.format(acc, j, lr, loss.data[0])\n",
    "    print ('time:{:.1f}'.format(time.time() - cur_time ))\n",
    "    print (ModelFile)\n",
    "    torch.save(model.state_dict(), ModelFile)"
   ]
  },
  {
   "cell_type": "code",
   "execution_count": null,
   "metadata": {
    "collapsed": false,
    "scrolled": true
   },
   "outputs": [],
   "source": [
    "epoch = 0\n",
    "audio_batch = torch.zeros(batch_size,model.receptive_field+1)\n",
    "targets_batch = torch.zeros(batch_size).type(torch.LongTensor)\n",
    "accurancy_counter = torch.zeros(model.num_classes)\n",
    "\n",
    "while 1:\n",
    "    num_iters = reader.thread_main()\n",
    "    for iter in range(num_iters/batch_size):\n",
    "        start_time = time.time()\n",
    "        for i in range(batch_size):\n",
    "            audio_part = reader.data_set.get()\n",
    "            audio_batch[i,:] = torch.FloatTensor(audio_part)\n",
    "            targets_batch[i] =  reader.target_queue.get().astype(np.int64)\n",
    "        if model.use_cuda:\n",
    "            audio = autograd.Variable(audio_batch).cuda()\n",
    "            targets = autograd.Variable(targets_batch).cuda()\n",
    "        else:\n",
    "            audio = autograd.Variable(audio_batch)\n",
    "            targets = autograd.Variable(targets_batch) \n",
    "        model.zero_grad()\n",
    "\n",
    "        raw_output = model(audio)\n",
    "        loss = model._loss(raw_output, targets)\n",
    "        loss.backward()\n",
    "        optimizer.step()\n",
    "        duration = time.time() - start_time\n",
    "        if model.use_cuda:\n",
    "            print('epoch {:d}, step {:d} - loss = {:.3f}, ({:.3f} sec/step)'\n",
    "                  .format(epoch, iter, loss.cpu().data[0], duration))\n",
    "            ModelFile = open('./logdir/step{:.3f}-loss={:.3f}_model.txt'.format(epoch, loss.data[0]), 'w')\n",
    "    if (iter % checkpoint_every == 0):\n",
    "        if model.use_cuda:\n",
    "            print('epoch {:d}, step {:d} - loss = {:.3f}, ({:.3f} sec/step)'\n",
    "                  .format(epoch, iter, loss.cpu().data[0], duration))\n",
    "            ModelFile = open('./logdir/step{:.3f}-loss={:.3f}_model.txt'.format(epoch, loss.data[0]), 'w')\n",
    "        else:\n",
    "            print('epoch {:d}, step {:d} - loss = {:.3f}, ({:.3f} sec/step)'\n",
    "                  .format(epoch, iter, loss.cpu().data[0], duration))\n",
    "            ModelFile = open('./logdir/step{:.3f}-loss={:.3f}_model.txt'.format(epoch, loss.data[0]), 'w')                \n",
    "        torch.save(model.state_dict(), ModelFile)\n",
    "    epoch += 1"
   ]
  },
  {
   "cell_type": "code",
   "execution_count": null,
   "metadata": {
    "collapsed": false
   },
   "outputs": [],
   "source": [
    "raw_text = open(\"./training_set/targets/1/audio200.txt\").read()"
   ]
  },
  {
   "cell_type": "code",
   "execution_count": null,
   "metadata": {
    "collapsed": false
   },
   "outputs": [],
   "source": [
    "print (reader.data_set.get().shape)"
   ]
  },
  {
   "cell_type": "code",
   "execution_count": null,
   "metadata": {
    "collapsed": true
   },
   "outputs": [],
   "source": [
    "num_iters = reader.thread_main()"
   ]
  },
  {
   "cell_type": "code",
   "execution_count": null,
   "metadata": {
    "collapsed": false
   },
   "outputs": [],
   "source": [
    "epoch = 0\n",
    "audio_batch = torch.zeros(batch_size,model.receptive_field+1)\n",
    "targets_batch = torch.zeros(batch_size).type(torch.LongTensor)\n",
    "while 1:\n",
    "    num_iters = reader.thread_main()\n",
    "    for iter in range(num_iters/batch_size):\n",
    "        start_time = time.time()\n",
    "        for i in range(batch_size):\n",
    "            print (reader.data_set.qsize())\n",
    "            audio_part = reader.data_set.get()\n",
    "            print (np.mean(audio_part))\n",
    "            audio_batch[i,:] = torch.FloatTensor(reader.data_set.get())\n",
    "            targets_batch[i] =  reader.target_queue.get().astype(np.int64)\n",
    "            \n",
    "            \n",
    "            print (targets_batch[i])\n",
    "        if model.use_cuda:\n",
    "            audio = autograd.Variable(audio_batch).cuda()\n",
    "            targets = autograd.Variable(targets_batch).cuda()\n",
    "        else:\n",
    "            audio = autograd.Variable(audio_batch)\n",
    "            targets = autograd.Variable(targets_batch) \n",
    "        #model.zero_grad()\n",
    "        encoded_input = mu_law_encode(audio,\n",
    "                              model.quantization_channels)\n",
    "        network_input = model.one_hot(encoded_input)\n",
    "\n",
    "        # Cut off the last sample of network input to preserve causality.\n",
    "        network_input_width = network_input.size()[2] - 1\n",
    "        network_input = network_input[:, :, :network_input_width]\n",
    "        \n",
    "        \n",
    "        raw_output = model._create_network(network_input)\n",
    "        print (audio[2:17, :])\n",
    "        # Cut off the samples corresponding to the receptive field\n",
    "        # for the first predicted sample.\n",
    "        prediction = torch.transpose(raw_output, 1, 2).view(-1, model.num_classes)\n",
    "        print (prediction)\n",
    "        prediction = F.softmax(prediction)\n",
    "        \n",
    "        qwer, tmp = torch.max(prediction, 0)\n",
    "        duration = time.time() - start_time"
   ]
  },
  {
   "cell_type": "code",
   "execution_count": null,
   "metadata": {
    "collapsed": true
   },
   "outputs": [],
   "source": []
  }
 ],
 "metadata": {
  "kernelspec": {
   "display_name": "Python 2",
   "language": "python",
   "name": "python2"
  }
 },
 "nbformat": 4,
 "nbformat_minor": 2
}
