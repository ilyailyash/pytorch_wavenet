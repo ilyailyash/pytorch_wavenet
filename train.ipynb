{
 "cells": [
  {
   "cell_type": "code",
   "execution_count": 1,
   "metadata": {
    "collapsed": false
   },
   "outputs": [],
   "source": [
    "import numpy as np\n",
    "import torch\n",
    "import torch.nn.functional as F\n",
    "from torch import nn\n",
    "from torch import autograd\n",
    "from torch.nn import init\n",
    "import math\n",
    "from ops import mu_law_encode, one_hot, time_to_batch, batch_to_time\n",
    "from model import WaveNetModel\n",
    "from audio_reader import AudioReader\n",
    "import torch.optim as optim\n",
    "import librosa\n",
    "import time\n",
    "import Queue\n",
    "import json\n",
    "FILE_PATTERN = r'p([0-9]+)_([0-9]+)\\.wav'"
   ]
  },
  {
   "cell_type": "code",
   "execution_count": 2,
   "metadata": {
    "collapsed": false
   },
   "outputs": [],
   "source": [
    "with open('./wavenet_params.json', 'r') as config_file:\n",
    "    wavenet_params = json.load(config_file)"
   ]
  },
  {
   "cell_type": "code",
   "execution_count": 3,
   "metadata": {
    "collapsed": false
   },
   "outputs": [],
   "source": [
    "model = WaveNetModel(\n",
    "                 wavenet_params[\"batch_size\"],\n",
    "                 wavenet_params[\"dilations\"],\n",
    "                 wavenet_params[\"filter_width\"],\n",
    "                 wavenet_params[\"residual_channels\"],\n",
    "                 wavenet_params[\"dilation_channels\"],\n",
    "                 wavenet_params[\"skip_channels\"],\n",
    "                 quantization_channels = wavenet_params[\"quantization_channels\"],\n",
    "                 use_biases = wavenet_params[\"use_biases\"],\n",
    "                 scalar_input = wavenet_params[\"scalar_input\"],\n",
    "                 use_cuda = wavenet_params[\"use_cuda\"],\n",
    "                 initial_filter_width = wavenet_params[\"initial_filter_width\"],\n",
    "                 global_condition_channels=None,\n",
    "                 global_condition_cardinality=None)\n",
    "if model.use_cuda:\n",
    "    model = model.cuda()\n",
    "optimizer = optim.SGD(model.parameters(), lr=0.00001, momentum = 0.9, nesterov = True)\n",
    "model.load_state_dict(torch.load('./logdir2/step18462-loss=2.960_model.txt'))"
   ]
  },
  {
   "cell_type": "code",
   "execution_count": 4,
   "metadata": {
    "collapsed": false
   },
   "outputs": [
    {
     "name": "stdout",
     "output_type": "stream",
     "text": [
      "5.85329794884\n"
     ]
    }
   ],
   "source": [
    "reader = AudioReader(\n",
    "        \"/home/administrator/workspace/true_model/VCTK-Corpus/wav48\",\n",
    "        sample_rate=wavenet_params[\"sample_rate\"],\n",
    "        gc_enabled=None,\n",
    "        receptive_field=model.calculate_receptive_field(model.filter_width,\n",
    "                                                        model.dilations,\n",
    "                                                        model.scalar_input,\n",
    "                                                        model.initial_filter_width),\n",
    "        sample_size=40000,\n",
    "        silence_threshold= 0.01,\n",
    "        load_size=32)   \n",
    "start_time = time.time()\n",
    "num_iters = reader.thread_main()\n",
    "print (time.time() - start_time)"
   ]
  },
  {
   "cell_type": "code",
   "execution_count": null,
   "metadata": {
    "collapsed": false
   },
   "outputs": [],
   "source": [
    "optimizer = optim.SGD(model.parameters(), lr=0.00001, momentum = 0.9, nesterov = True)"
   ]
  },
  {
   "cell_type": "code",
   "execution_count": null,
   "metadata": {
    "collapsed": false,
    "scrolled": true
   },
   "outputs": [],
   "source": [
    "epoch = 0\n",
    "logdir_root = './logdir2'\n",
    "LossFile = open(logdir_root+'/loss.txt', 'w')\n",
    "a = np.arange(num_iters)\n",
    "step = 0\n",
    "while 1:\n",
    "    num_iters = reader.thread_main()\n",
    "    for iter in range(num_iters):\n",
    "        start_time = time.time()\n",
    "        audio = reader.data_set.get()\n",
    "        if model.use_cuda:\n",
    "            audio = autograd.Variable(torch.FloatTensor(audio)).cuda().t()\n",
    "        else:\n",
    "            audio = autograd.Variable(torch.FloatTensor(audio)).t()        \n",
    "        model.zero_grad()\n",
    "        loss = model.wavenet_loss(audio)\n",
    "        LossFile.write('{:.3f}\\n'.format(loss.cpu().data[0]))\n",
    "        loss.backward()\n",
    "        optimizer.step()\n",
    "        duration = time.time() - start_time\n",
    "        step += 1\n",
    "    if epoch % 50 == 0:\n",
    "        if model.use_cuda:\n",
    "            print('epoch {:d}, step {:d} - loss = {:.3f}, ({:.3f} sec/step)'\n",
    "                  .format(epoch, step, loss.cpu().data[0], duration))\n",
    "            ModelFile = open(logdir_root+'/step{:d}-loss={:.3f}_model.txt'.format(step, loss.data[0]), 'w')\n",
    "            \n",
    "        else:\n",
    "            print('epoch {:d}, step {:d} - loss = {:.3f}, ({:.3f} sec/step)'\n",
    "                  .format(epoch, step, loss.cpu().data[0], duration))\n",
    "            ModelFile = open(logdir_root+'/step{:d}-loss={:.3f}_model.txt'.format(step, loss.data[0]), 'w')                \n",
    "        torch.save(model.state_dict(), ModelFile)\n",
    "        ModelFile.close()\n",
    "    epoch += 1"
   ]
  },
  {
   "cell_type": "code",
   "execution_count": null,
   "metadata": {
    "collapsed": false
   },
   "outputs": [],
   "source": [
    "print model.dilations"
   ]
  },
  {
   "cell_type": "code",
   "execution_count": null,
   "metadata": {
    "collapsed": true
   },
   "outputs": [],
   "source": []
  }
 ],
 "metadata": {
  "kernelspec": {
   "display_name": "Python 2",
   "language": "python",
   "name": "python2"
  },
  "language_info": {
   "codemirror_mode": {
    "name": "ipython",
    "version": 2
   },
   "file_extension": ".py",
   "mimetype": "text/x-python",
   "name": "python",
   "nbconvert_exporter": "python",
   "pygments_lexer": "ipython2",
   "version": "2.7.12"
  }
 },
 "nbformat": 4,
 "nbformat_minor": 2
}
